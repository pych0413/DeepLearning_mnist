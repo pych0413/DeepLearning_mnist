{
 "cells": [
  {
   "cell_type": "code",
   "execution_count": 1,
   "id": "8692cb33",
   "metadata": {},
   "outputs": [],
   "source": [
    "from tensorflow.keras.datasets import mnist\n",
    "from tensorflow.keras.models import Sequential\n",
    "from tensorflow.keras.layers import Dense, Dropout\n",
    "from tensorflow.keras.utils import plot_model, to_categorical\n",
    "from tensorflow.keras import optimizers\n",
    "from sklearn.model_selection import train_test_split\n",
    "from numpy.polynomial.polynomial import polyfit\n",
    "import numpy as np\n",
    "import matplotlib.pyplot as plt"
   ]
  },
  {
   "cell_type": "code",
   "execution_count": 2,
   "id": "38b65b1f",
   "metadata": {},
   "outputs": [
    {
     "name": "stdout",
     "output_type": "stream",
     "text": [
      "(60000, 28, 28) (60000,) (10000, 28, 28) (10000,)\n"
     ]
    }
   ],
   "source": [
    "# Import the data, split between train and validation sets\n",
    "(X_train, y_train), (X_test, y_test) = mnist.load_data()\n",
    "\n",
    "# Check the data\n",
    "print(X_train.shape, y_train.shape, X_test.shape, y_test.shape)"
   ]
  },
  {
   "cell_type": "code",
   "execution_count": 3,
   "id": "eff37722",
   "metadata": {},
   "outputs": [],
   "source": [
    "# Preprocess (Categorically and one-hot encoding)\n",
    "X_train = X_train.reshape(X_train.shape[0], 784)\n",
    "X_test = X_test.reshape(X_test.shape[0], 784)\n",
    "\n",
    "X_train, X_valid, y_train, y_valid = train_test_split(X_train, y_train, test_size=0.2, random_state=123)\n",
    "\n",
    "y_train = to_categorical(y_train)\n",
    "y_valid = to_categorical(y_valid)\n",
    "y_test = to_categorical(y_test)"
   ]
  },
  {
   "cell_type": "code",
   "execution_count": 4,
   "id": "06ea4d88",
   "metadata": {},
   "outputs": [
    {
     "name": "stdout",
     "output_type": "stream",
     "text": [
      "Model: \"sequential\"\n",
      "_________________________________________________________________\n",
      " Layer (type)                Output Shape              Param #   \n",
      "=================================================================\n",
      " dense (Dense)               (None, 256)               200960    \n",
      "                                                                 \n",
      " dense_1 (Dense)             (None, 128)               32896     \n",
      "                                                                 \n",
      " dense_2 (Dense)             (None, 10)                1290      \n",
      "                                                                 \n",
      "=================================================================\n",
      "Total params: 235,146\n",
      "Trainable params: 235,146\n",
      "Non-trainable params: 0\n",
      "_________________________________________________________________\n",
      "You must install pydot (`pip install pydot`) and install graphviz (see instructions at https://graphviz.gitlab.io/download/) for plot_model/model_to_dot to work.\n"
     ]
    }
   ],
   "source": [
    "# Creating the Model \n",
    "model = Sequential()\n",
    "\n",
    "model.add(Dense(units = 256, activation='sigmoid', input_dim=784))\n",
    "model.add(Dense(units = 128, activation='relu'))\n",
    "model.add(Dense(units = 10, activation='softmax'))\n",
    "\n",
    "model.summary()\n",
    "model.compile(\n",
    "    optimizer = 'rmsprop',\n",
    "    loss = 'binary_crossentropy',\n",
    "    metrics=['accuracy'])\n",
    "\n",
    "# Show the model\n",
    "plot_model(model, show_shapes=True, show_layer_names=False)"
   ]
  },
  {
   "cell_type": "code",
   "execution_count": 5,
   "id": "ecc477f7",
   "metadata": {},
   "outputs": [
    {
     "name": "stdout",
     "output_type": "stream",
     "text": [
      "Epoch 1/3\n",
      "1500/1500 [==============================] - 7s 4ms/step - loss: 0.0744 - accuracy: 0.8801 - val_loss: 0.0481 - val_accuracy: 0.9171\n",
      "Epoch 2/3\n",
      "1500/1500 [==============================] - 5s 3ms/step - loss: 0.0430 - accuracy: 0.9298 - val_loss: 0.0410 - val_accuracy: 0.9291\n",
      "Epoch 3/3\n",
      "1500/1500 [==============================] - 5s 3ms/step - loss: 0.0364 - accuracy: 0.9401 - val_loss: 0.0373 - val_accuracy: 0.9363\n"
     ]
    }
   ],
   "source": [
    "# Train the model\n",
    "history = model.fit(\n",
    "    X_train,\n",
    "    y_train, \n",
    "    epochs = 3,\n",
    "    verbose = 1,\n",
    "    batch_size = 32,\n",
    "    validation_data=(X_valid, y_valid)\n",
    ")"
   ]
  },
  {
   "cell_type": "code",
   "execution_count": 6,
   "id": "9881c96a",
   "metadata": {},
   "outputs": [
    {
     "data": {
      "image/png": "[encoded data removed]",
      "text/plain": [
       "<Figure size 432x288 with 1 Axes>"
      ]
     },
     "metadata": {
      "needs_background": "light"
     },
     "output_type": "display_data"
    }
   ],
   "source": [
    "# Analysis the Accuracy result\n",
    "plt.plot(history.history[\"accuracy\"], label=\"accuracy\")\n",
    "plt.ylabel(\"accuracy\")\n",
    "plt.xlabel(\"epoch\")\n",
    "plt.legend(loc=\"best\")\n",
    "plt.show()"
   ]
  },
  {
   "cell_type": "code",
   "execution_count": 7,
   "id": "001a82a9",
   "metadata": {},
   "outputs": [
    {
     "name": "stdout",
     "output_type": "stream",
     "text": [
      "Testing Loss: 0.03431571274995804\n",
      "Testing Accuracy: 0.9422000050544739\n"
     ]
    }
   ],
   "source": [
    "# Test Result\n",
    "score = model.evaluate(X_test, y_test, verbose=0)\n",
    "print(\"Testing Loss: {0[0]}\\nTesting Accuracy: {0[1]}\".format(score))"
   ]
  },
  {
   "cell_type": "code",
   "execution_count": 8,
   "id": "1c70d18d",
   "metadata": {},
   "outputs": [
    {
     "name": "stdout",
     "output_type": "stream",
     "text": [
      "1/1 [==============================] - 0s 81ms/step\n",
      "[7 2 1 0 4 1 4 9 5 9]\n"
     ]
    },
    {
     "data": {
      "image/png": "[encoded data removed]",
      "text/plain": [
       "<Figure size 432x288 with 10 Axes>"
      ]
     },
     "metadata": {
      "needs_background": "light"
     },
     "output_type": "display_data"
    }
   ],
   "source": [
    "# Prediction of the model\n",
    "for i in range(10):\n",
    "    plt.subplot(1, 10, i+1)\n",
    "    plt.imshow(X_test[i].reshape((28,28)), \"gray\")\n",
    "plt.show\n",
    "\n",
    "pred = np.argmax(model.predict(X_test[0:10]), axis=1)\n",
    "print(pred)"
   ]
  },
  {
   "cell_type": "code",
   "execution_count": 13,
   "id": "90e71ae8",
   "metadata": {},
   "outputs": [],
   "source": [
    "# Optimize the model\n",
    "\n",
    "(X_train, y_train), (X_test, y_test) = mnist.load_data()\n",
    "\n",
    "X_train = X_train.reshape(X_train.shape[0], 784)\n",
    "X_test = X_test.reshape(X_test.shape[0], 784)\n",
    "\n",
    "# Normalization\n",
    "X_train = X_train / 255\n",
    "X_test = X_test / 255\n",
    "\n",
    "X_train, X_valid, y_train, y_valid = train_test_split(X_train, y_train, test_size=0.2, random_state=123)\n",
    "y_train = to_categorical(y_train)\n",
    "y_valid = to_categorical(y_valid)\n",
    "y_test = to_categorical(y_test)\n",
    "\n",
    "def new_model(drop_rate=0.5, lr=0.1, bs=16, epo=10):\n",
    "    global model\n",
    "    model = Sequential()\n",
    "    model.add(Dense(units = 256, activation='sigmoid', input_dim=784))\n",
    "    model.add(Dense(units = 128, activation='relu'))\n",
    "\n",
    "    # Dropout\n",
    "    model.add(Dropout(rate=drop_rate))\n",
    "\n",
    "    model.add(Dense(units = 10, activation='softmax'))\n",
    "\n",
    "    model.compile(\n",
    "    # Change the optimizer and learning rate\n",
    "    optimizer = optimizers.SGD(learning_rate = lr),\n",
    "    \n",
    "    # Optimize the loss Function\n",
    "    loss = 'categorical_crossentropy',\n",
    "    metrics=['accuracy'])\n",
    "    \n",
    "    # Optimize the batch size and epoch\n",
    "    model.fit(X_train, y_train, verbose=0, batch_size=bs, epochs=epo, validation_data=(X_valid, y_valid))\n",
    "\n",
    "    score = model.evaluate(X_test, y_test, verbose=0)\n",
    "    print(\"New Model:\\nDrop rate: {0}\\nLearning rate: {1}\\nBatch size: {2}\\nEpochs: {3}\".format(drop_rate, lr, bs, epo))\n",
    "    print(\"Testing Loss: {0[0]}\\nTesting Accuracy: {0[1]}\\n\".format(score))"
   ]
  },
  {
   "cell_type": "code",
   "execution_count": 14,
   "id": "5e386ec2",
   "metadata": {},
   "outputs": [
    {
     "name": "stdout",
     "output_type": "stream",
     "text": [
      "New Model:\n",
      "Drop rate: 0.5\n",
      "Learning rate: 1\n",
      "Batch size: 32\n",
      "Epochs: 5\n",
      "Testing Loss: 2.307689666748047\n",
      "Testing Accuracy: 0.10100000351667404\n",
      "\n",
      "New Model:\n",
      "Drop rate: 0.5\n",
      "Learning rate: 0.1\n",
      "Batch size: 32\n",
      "Epochs: 5\n",
      "Testing Loss: 0.16181179881095886\n",
      "Testing Accuracy: 0.9503999948501587\n",
      "\n",
      "New Model:\n",
      "Drop rate: 0.5\n",
      "Learning rate: 0.01\n",
      "Batch size: 32\n",
      "Epochs: 5\n",
      "Testing Loss: 0.33832138776779175\n",
      "Testing Accuracy: 0.9041000008583069\n",
      "\n"
     ]
    }
   ],
   "source": [
    "new_model(drop_rate=0.5, lr=1, bs=32, epo=5)\n",
    "new_model(drop_rate=0.5, lr=0.1, bs=32, epo=5)\n",
    "new_model(drop_rate=0.5, lr=0.01, bs=32, epo=5)"
   ]
  },
  {
   "cell_type": "code",
   "execution_count": 15,
   "id": "060d62f2",
   "metadata": {},
   "outputs": [
    {
     "name": "stdout",
     "output_type": "stream",
     "text": [
      "New Model:\n",
      "Drop rate: 0.5\n",
      "Learning rate: 0.1\n",
      "Batch size: 16\n",
      "Epochs: 5\n",
      "Testing Loss: 0.11759544909000397\n",
      "Testing Accuracy: 0.9639000296592712\n",
      "\n",
      "New Model:\n",
      "Drop rate: 0.5\n",
      "Learning rate: 0.1\n",
      "Batch size: 32\n",
      "Epochs: 5\n",
      "Testing Loss: 0.15778350830078125\n",
      "Testing Accuracy: 0.9509000182151794\n",
      "\n",
      "New Model:\n",
      "Drop rate: 0.5\n",
      "Learning rate: 0.1\n",
      "Batch size: 64\n",
      "Epochs: 5\n",
      "Testing Loss: 0.2095573991537094\n",
      "Testing Accuracy: 0.9358999729156494\n",
      "\n"
     ]
    }
   ],
   "source": [
    "new_model(drop_rate=0.5, lr=0.1, bs=16, epo=5)\n",
    "new_model(drop_rate=0.5, lr=0.1, bs=32, epo=5)\n",
    "new_model(drop_rate=0.5, lr=0.1, bs=64, epo=5)"
   ]
  },
  {
   "cell_type": "code",
   "execution_count": 16,
   "id": "4c189c82",
   "metadata": {},
   "outputs": [
    {
     "name": "stdout",
     "output_type": "stream",
     "text": [
      "New Model:\n",
      "Drop rate: 0.5\n",
      "Learning rate: 0.1\n",
      "Batch size: 16\n",
      "Epochs: 5\n",
      "Testing Loss: 0.12169519066810608\n",
      "Testing Accuracy: 0.9621000289916992\n",
      "\n",
      "New Model:\n",
      "Drop rate: 0.5\n",
      "Learning rate: 0.1\n",
      "Batch size: 16\n",
      "Epochs: 10\n",
      "Testing Loss: 0.08324840664863586\n",
      "Testing Accuracy: 0.9742000102996826\n",
      "\n",
      "New Model:\n",
      "Drop rate: 0.5\n",
      "Learning rate: 0.1\n",
      "Batch size: 16\n",
      "Epochs: 20\n",
      "Testing Loss: 0.07935099303722382\n",
      "Testing Accuracy: 0.9790999889373779\n",
      "\n"
     ]
    }
   ],
   "source": [
    "new_model(drop_rate=0.5, lr=0.1, bs=16, epo=5)\n",
    "new_model(drop_rate=0.5, lr=0.1, bs=16, epo=10)\n",
    "new_model(drop_rate=0.5, lr=0.1, bs=16, epo=20)"
   ]
  },
  {
   "cell_type": "code",
   "execution_count": 17,
   "id": "adb8c9f3",
   "metadata": {},
   "outputs": [
    {
     "name": "stdout",
     "output_type": "stream",
     "text": [
      "New Model:\n",
      "Drop rate: 0.4\n",
      "Learning rate: 0.1\n",
      "Batch size: 16\n",
      "Epochs: 20\n",
      "Testing Loss: 0.07487761974334717\n",
      "Testing Accuracy: 0.9796000123023987\n",
      "\n",
      "New Model:\n",
      "Drop rate: 0.5\n",
      "Learning rate: 0.1\n",
      "Batch size: 16\n",
      "Epochs: 20\n",
      "Testing Loss: 0.08480628579854965\n",
      "Testing Accuracy: 0.9779000282287598\n",
      "\n",
      "New Model:\n",
      "Drop rate: 0.6\n",
      "Learning rate: 0.1\n",
      "Batch size: 16\n",
      "Epochs: 20\n",
      "Testing Loss: 0.07798400521278381\n",
      "Testing Accuracy: 0.9796000123023987\n",
      "\n"
     ]
    }
   ],
   "source": [
    "new_model(drop_rate=0.4, lr=0.1, bs=16, epo=20)\n",
    "new_model(drop_rate=0.5, lr=0.1, bs=16, epo=20)\n",
    "new_model(drop_rate=0.6, lr=0.1, bs=16, epo=20)"
   ]
  },
  {
   "cell_type": "code",
   "execution_count": null,
   "id": "4afc10ac",
   "metadata": {},
   "outputs": [],
   "source": []
  }
 ],
 "metadata": {
  "kernelspec": {
   "display_name": "Python 3 (ipykernel)",
   "language": "python",
   "name": "python3"
  },
  "language_info": {
   "codemirror_mode": {
    "name": "ipython",
    "version": 3
   },
   "file_extension": ".py",
   "mimetype": "text/x-python",
   "name": "python",
   "nbconvert_exporter": "python",
   "pygments_lexer": "ipython3",
   "version": "3.9.12"
  }
 },
 "nbformat": 4,
 "nbformat_minor": 5
}
